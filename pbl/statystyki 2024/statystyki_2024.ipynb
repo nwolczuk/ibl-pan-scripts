{
 "cells": [
  {
   "cell_type": "code",
   "execution_count": 1,
   "metadata": {},
   "outputs": [],
   "source": [
    "import cx_Oracle\n",
    "import pandas as pd\n",
    "import gspread\n",
    "from gspread_dataframe import get_as_dataframe\n",
    "from datetime import datetime\n",
    "from dateutil.relativedelta import relativedelta\n",
    "from dotenv import load_dotenv\n",
    "import os"
   ]
  },
  {
   "cell_type": "code",
   "execution_count": 2,
   "metadata": {},
   "outputs": [],
   "source": [
    "load_dotenv()\n",
    "user = os.getenv('USER')\n",
    "password = os.getenv('PASSWORD')"
   ]
  },
  {
   "cell_type": "code",
   "execution_count": 3,
   "metadata": {},
   "outputs": [],
   "source": [
    "# pbl oracle connection\n",
    "dsn_tns = cx_Oracle.makedsn('pbl.ibl.poznan.pl', '1521', service_name='xe')\n",
    "connection = cx_Oracle.connect(user=user, password=password, dsn=dsn_tns, encoding='windows-1250')"
   ]
  },
  {
   "cell_type": "code",
   "execution_count": 6,
   "metadata": {},
   "outputs": [
    {
     "name": "stderr",
     "output_type": "stream",
     "text": [
      "C:\\Users\\Nikodem\\AppData\\Local\\Temp\\ipykernel_17996\\774828748.py:10: UserWarning: pandas only supports SQLAlchemy connectable (engine/connection) or database string URI or sqlite3 DBAPI2 connection. Other DBAPI2 objects are not tested. Please consider using SQLAlchemy.\n",
      "  pbl_df = pd.read_sql(pbl_query, con=connection)\n"
     ]
    }
   ],
   "source": [
    "pbl_query = \"\"\"\n",
    "select z.za_ro_rok rocznik, count(*) liczba_rekordow from IBL_OWNER.pbl_zapisy z\n",
    "where z.za_status_imp is null\n",
    "and z.za_uzytk_wpis_data > TO_DATE('2024-01-01','YYYY-MM-DD')\n",
    "and z.za_uzytk_wpis_data < TO_DATE('2025-01-01','YYYY-MM-DD')\n",
    "group by z.za_ro_rok\n",
    "order by z.za_ro_rok\n",
    "            \"\"\"                \n",
    "\n",
    "pbl_df = pd.read_sql(pbl_query, con=connection)"
   ]
  },
  {
   "cell_type": "code",
   "execution_count": 9,
   "metadata": {},
   "outputs": [
    {
     "name": "stdout",
     "output_type": "stream",
     "text": [
      "    ROCZNIK  LICZBA_REKORDOW\n",
      "0      1988                1\n",
      "1      1989               19\n",
      "2      1992                1\n",
      "3      1994                4\n",
      "4      1995                2\n",
      "5      1996               17\n",
      "6      1997                1\n",
      "7      1998                2\n",
      "8      1999                1\n",
      "9      2000                9\n",
      "10     2001                2\n",
      "11     2002               63\n",
      "12     2003               43\n",
      "13     2004              970\n",
      "14     2005             2057\n",
      "15     2006             1340\n",
      "16     2007             1300\n",
      "17     2008             1867\n",
      "18     2009             2309\n",
      "19     2010             2040\n",
      "20     2011             1724\n",
      "21     2012             1703\n",
      "22     2013               62\n",
      "23     2014                1\n",
      "RAZEM:  15538\n"
     ]
    }
   ],
   "source": [
    "print(pbl_df)\n",
    "print('RAZEM: ', sum(pbl_df['LICZBA_REKORDOW']))"
   ]
  },
  {
   "cell_type": "code",
   "execution_count": 4,
   "metadata": {},
   "outputs": [
    {
     "name": "stderr",
     "output_type": "stream",
     "text": [
      "C:\\Users\\Nikodem\\AppData\\Local\\Temp\\ipykernel_6068\\3253025851.py:10: UserWarning: pandas only supports SQLAlchemy connectable (engine/connection) or database string URI or sqlite3 DBAPI2 connection. Other DBAPI2 objects are not tested. Please consider using SQLAlchemy.\n",
      "  pbl_df = pd.read_sql(pbl_query, con=connection)\n"
     ]
    }
   ],
   "source": [
    "pbl_query = \"\"\"\n",
    "select z.za_type typ, count(*) liczba_rekordow from IBL_OWNER.pbl_zapisy z\n",
    "where z.za_status_imp is null\n",
    "and z.za_uzytk_wpis_data > TO_DATE('2024-01-01','YYYY-MM-DD')\n",
    "and z.za_uzytk_wpis_data < TO_DATE('2025-01-01','YYYY-MM-DD')\n",
    "group by z.za_type\n",
    "order by liczba_rekordow desc\n",
    "            \"\"\"                \n",
    "\n",
    "pbl_df = pd.read_sql(pbl_query, con=connection)"
   ]
  },
  {
   "cell_type": "code",
   "execution_count": 5,
   "metadata": {},
   "outputs": [
    {
     "name": "stdout",
     "output_type": "stream",
     "text": [
      "   TYP  LICZBA_REKORDOW\n",
      "0  IZA             8276\n",
      "1   PU             6092\n",
      "2   IR              635\n",
      "3   KS              494\n",
      "4   SZ               35\n",
      "5   FI                6\n",
      "RAZEM:  15538\n"
     ]
    }
   ],
   "source": [
    "print(pbl_df)\n",
    "print('RAZEM: ', sum(pbl_df['LICZBA_REKORDOW']))"
   ]
  },
  {
   "cell_type": "code",
   "execution_count": 15,
   "metadata": {},
   "outputs": [],
   "source": [
    "bn_articles_2024 = set(pd.read_excel('statystyki 2024/import 2024/bn_articles_marc.xlsx')['001'])\n",
    "bn_books_2024 = set(pd.read_excel('statystyki 2024/import 2024/bn_books_marc.xlsx')['001'])\n",
    "bn_chapter_2024 = set(pd.read_excel('statystyki 2024/import 2024/bn_chapters_marc.xlsx')['001'])\n",
    "\n",
    "bn_articles_2021 = set(pd.read_excel('statystyki 2024/import 2021/bn_articles_marc.xlsx')['001'])\n",
    "bn_books_2021 = set(pd.read_excel('statystyki 2024/import 2021/bn_books_marc.xlsx')['001'])\n",
    "bn_chapter_2021 = set(pd.read_excel('statystyki 2024/import 2021/bn_chapters_marc.xlsx')['001'])"
   ]
  },
  {
   "cell_type": "code",
   "execution_count": 17,
   "metadata": {},
   "outputs": [
    {
     "name": "stdout",
     "output_type": "stream",
     "text": [
      "BN 2024 articles:  41795\n",
      "BN 2024 books:  70810\n",
      "BN 2024 chapters:  14656\n",
      "BN 2021 articles:  183345\n",
      "BN 2021 books:  129360\n",
      "BN 2021 chapters:  28754\n"
     ]
    }
   ],
   "source": [
    "print('BN 2024 articles: ', len(bn_articles_2024))\n",
    "print('BN 2024 books: ', len(bn_books_2024))\n",
    "print('BN 2024 chapters: ', len(bn_chapter_2024))\n",
    "print('BN 2021 articles: ', len(bn_articles_2021))\n",
    "print('BN 2021 books: ', len(bn_books_2021))\n",
    "print('BN 2021 chapters: ', len(bn_chapter_2021))"
   ]
  },
  {
   "cell_type": "code",
   "execution_count": 16,
   "metadata": {},
   "outputs": [
    {
     "name": "stdout",
     "output_type": "stream",
     "text": [
      "BN 2024 articles:  41795\n",
      "BN 2024 books:  70810\n",
      "BN 2024 chapters:  14656\n"
     ]
    }
   ],
   "source": [
    "print('BN 2024 articles: ', len(bn_articles_2024 - bn_articles_2021))\n",
    "print('BN 2024 books: ', len(bn_books_2024 - bn_books_2021))\n",
    "print('BN 2024 chapters: ', len(bn_chapter_2024 - bn_chapter_2021))"
   ]
  }
 ],
 "metadata": {
  "kernelspec": {
   "display_name": "Python 3",
   "language": "python",
   "name": "python3"
  },
  "language_info": {
   "codemirror_mode": {
    "name": "ipython",
    "version": 3
   },
   "file_extension": ".py",
   "mimetype": "text/x-python",
   "name": "python",
   "nbconvert_exporter": "python",
   "pygments_lexer": "ipython3",
   "version": "3.11.1"
  }
 },
 "nbformat": 4,
 "nbformat_minor": 2
}
