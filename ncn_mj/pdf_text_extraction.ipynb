{
 "cells": [
  {
   "cell_type": "code",
   "execution_count": null,
   "metadata": {},
   "outputs": [],
   "source": [
    "import PyPDF2\n",
    "from tqdm import tqdm\n",
    "import regex as re\n",
    "from collections import Counter\n",
    "import spacy"
   ]
  },
  {
   "cell_type": "code",
   "execution_count": null,
   "metadata": {},
   "outputs": [],
   "source": [
    "# Powitanie i zakończenia listów.\n",
    "# Czasowniki: prosić, informować, zachęcać.\n",
    "# Wyrażenia: z przyjemnością, z przykrością.\n",
    "# Zwroty: Szanowni Państwo, Szanowna Pani.\n",
    "# Ilości listów do mnie vesus ilość listów ode mnie do szkoły."
   ]
  },
  {
   "cell_type": "code",
   "execution_count": 5,
   "metadata": {},
   "outputs": [],
   "source": [
    "with open('korpus wiadomosci szkola -- sample.pdf', 'rb') as file:\n",
    "    reader = PyPDF2.PdfReader(file)\n",
    "    text = []\n",
    "    for page in reader.pages:\n",
    "        text.append(page.extract_text())"
   ]
  },
  {
   "cell_type": "code",
   "execution_count": null,
   "metadata": {},
   "outputs": [],
   "source": [
    "merged_text = []\n",
    "for elem in text:\n",
    "    if elem.startswith('Skrzynka:'):\n",
    "        merged_text.append(elem)\n",
    "    else:\n",
    "        merged_text[-1] = merged_text[-1] + '\\n' + elem\n",
    "del text"
   ]
  },
  {
   "cell_type": "code",
   "execution_count": null,
   "metadata": {},
   "outputs": [],
   "source": [
    "letters_dict = []\n",
    "for elem in merged_text:\n",
    "    elem_dict = {}\n",
    "    elem_dict['Skrzynka'] = re.search('(?<=Skrzynka:).+', elem).group(0).strip()\n",
    "    elem_dict['Nadawca'] = re.search('(?<=Nadawca:).+', elem).group(0).strip()\n",
    "    elem_dict['Otrzymano'] = re.search('(?<=Otrzymano:).+', elem).group(0).strip()\n",
    "    elem_dict['Odczytano'] = re.search('(?<=Odczytano:).+', elem).group(0).strip()\n",
    "    elem_dict['Temat'] = re.search('(?<=Temat:).+', elem).group(0).strip()\n",
    "    elem_dict['Tekst'] = '\\n'.join(elem.splitlines()[5:])\n",
    "    letters_dict.append(elem_dict)\n",
    "print(len(letters_dict))"
   ]
  },
  {
   "cell_type": "code",
   "execution_count": null,
   "metadata": {},
   "outputs": [],
   "source": [
    "# Powitanie i zakończenia listów.\n",
    "greetings = []\n",
    "for elem in letters_dict:\n",
    "    greet = elem['Tekst'].splitlines()[0]\n",
    "    if len(greet) <= 55:\n",
    "        greetings.append(greet)\n",
    "print(Counter(greetings))\n",
    "\n",
    "goodbyes = []\n",
    "for elem in letters_dict:\n",
    "    bye = elem['Tekst'].splitlines()[-2:]\n",
    "    bye = '\\n'.join(bye)\n",
    "    if len(bye) <= 55:\n",
    "        goodbyes.append(bye)\n",
    "print(Counter(goodbyes))"
   ]
  },
  {
   "cell_type": "code",
   "execution_count": null,
   "metadata": {},
   "outputs": [],
   "source": [
    "# Czasowniki: prosić, informować, zachęcać.\n",
    "# nlp = spacy.load(\"pl_core_news_lg\")\n",
    "\n",
    "\n",
    "# tekst = 'Proszę o to o co on prosił.'\n",
    "# doc = nlp(tekst)\n",
    "# bezokolicznik = 'prosić'\n",
    "# czasowniki = [token.text for token in doc if token.pos_ == \"VERB\" and token.lemma_ == bezokolicznik]\n",
    "# print(czasowniki)"
   ]
  },
  {
   "cell_type": "code",
   "execution_count": null,
   "metadata": {},
   "outputs": [],
   "source": [
    "# Wyrażenia: z przyjemnością, z przykrością.\n",
    "counter = 0\n",
    "for elem in letters_dict:\n",
    "    counter += elem['Tekst'].lower().count('z przyjemnością')\n",
    "print(counter)\n",
    "\n",
    "counter = 0\n",
    "for elem in letters_dict:\n",
    "    counter += elem['Tekst'].lower().count('z przykrością')\n",
    "print(counter)"
   ]
  },
  {
   "cell_type": "code",
   "execution_count": null,
   "metadata": {},
   "outputs": [],
   "source": [
    "# Zwroty: Szanowni Państwo, Szanowna Pani.\n",
    "counter = 0\n",
    "for elem in letters_dict:\n",
    "    counter += elem['Tekst'].lower().count('szanowni państwo')\n",
    "print(counter)\n",
    "\n",
    "counter = 0\n",
    "for elem in letters_dict:\n",
    "    counter += elem['Tekst'].lower().count('szanowna pani')\n",
    "print(counter)"
   ]
  },
  {
   "cell_type": "code",
   "execution_count": null,
   "metadata": {},
   "outputs": [],
   "source": [
    "# Ilości listów do mnie vesus ilość listów ode mnie do szkoły.\n",
    "counter = 0\n",
    "for elem in letters_dict:\n",
    "    counter += elem['Tekst'].count('Od: Jurewicz Magdalena' )\n",
    "print(counter)"
   ]
  }
 ],
 "metadata": {
  "kernelspec": {
   "display_name": "Python 3",
   "language": "python",
   "name": "python3"
  },
  "language_info": {
   "codemirror_mode": {
    "name": "ipython",
    "version": 3
   },
   "file_extension": ".py",
   "mimetype": "text/x-python",
   "name": "python",
   "nbconvert_exporter": "python",
   "pygments_lexer": "ipython3",
   "version": "3.11.1"
  }
 },
 "nbformat": 4,
 "nbformat_minor": 2
}
