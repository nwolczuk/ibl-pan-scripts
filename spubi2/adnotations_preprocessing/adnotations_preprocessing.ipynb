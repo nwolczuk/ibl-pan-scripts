{
 "cells": [
  {
   "cell_type": "code",
   "execution_count": 1,
   "metadata": {},
   "outputs": [],
   "source": [
    "import pandas as pd\n",
    "import numpy as np\n",
    "import json"
   ]
  },
  {
   "cell_type": "code",
   "execution_count": null,
   "metadata": {},
   "outputs": [],
   "source": [
    "# nowe książki z adnotacji \n",
    "ks_adnotations_df = pd.read_excel('pbl_ks_adnotacje_20-10-2024.xlsx').fillna('')\n",
    "\n",
    "ks_adnotations_df['adnotations_full'] = ks_adnotations_df['ZA_ADNOTACJE'] + ' ' + ks_adnotations_df['ZA_ADNOTACJE2'] + ' ' + ks_adnotations_df['ZA_ADNOTACJE3']\n",
    "ks_adnotations_df = ks_adnotations_df.sample(frac=1).reset_index(drop=True)\n",
    "ks_adnotations_df['group'] = np.arange(len(ks_adnotations_df)) // 5\n",
    "\n",
    "ks_adnotations_dct = {}\n",
    "for idx, row in ks_adnotations_df.iterrows():\n",
    "    ks_adnotations_dct.setdefault(100001 + row['group'], []).append((row['ZA_ZAPIS_ID'], row['adnotations_full'].strip('\\n')))\n",
    "    \n",
    "with open('ks_adnotations_dct.json', 'w', encoding='utf-8') as jfile:\n",
    "    json.dump(ks_adnotations_dct, jfile, indent=4, ensure_ascii=False)\n",
    "    \n",
    "for key, val in ks_adnotations_dct.items():\n",
    "    with open(f'txt_files/KS/{key}.txt', 'a', encoding='utf-8') as txt:\n",
    "        for tup in val:\n",
    "            txt.writelines(tup[1] + '\\n')"
   ]
  },
  {
   "cell_type": "code",
   "execution_count": 33,
   "metadata": {},
   "outputs": [
    {
     "name": "stderr",
     "output_type": "stream",
     "text": [
      "c:\\Users\\nwolc\\.virtualenvs\\WORK-C118PQ75\\Lib\\site-packages\\openpyxl\\styles\\stylesheet.py:237: UserWarning: Workbook contains no default style, apply openpyxl's default\n",
      "  warn(\"Workbook contains no default style, apply openpyxl's default\")\n"
     ]
    }
   ],
   "source": [
    "# dzielenie zbiorówek\n",
    "zbiorowki_adnotations_df = pd.read_excel('zbiorowki_24-01-2025.xlsx').fillna('')\n",
    "\n",
    "zbiorowki_adnotations_df['adnotations_full'] = zbiorowki_adnotations_df['ZA_ADNOTACJE'] + ' ' + zbiorowki_adnotations_df['ZA_ADNOTACJE2'] + ' ' + zbiorowki_adnotations_df['ZA_ADNOTACJE3']\n",
    "zbiorowki_adnotations_df = zbiorowki_adnotations_df.sample(frac=1).reset_index(drop=True)\n",
    "zbiorowki_adnotations_df = zbiorowki_adnotations_df[['ZA_ZAPIS_ID','adnotations_full']]"
   ]
  },
  {
   "cell_type": "code",
   "execution_count": 34,
   "metadata": {},
   "outputs": [],
   "source": [
    "zbiorowki_adnotations_df['adnotations_full'] = zbiorowki_adnotations_df['adnotations_full'].str.split('. - ', regex=False)\n",
    "zbiorowki_adnotations_df = zbiorowki_adnotations_df.explode('adnotations_full', ignore_index=True)"
   ]
  },
  {
   "cell_type": "code",
   "execution_count": null,
   "metadata": {},
   "outputs": [
    {
     "ename": "AttributeError",
     "evalue": "'Series' object has no attribute 'row'",
     "output_type": "error",
     "traceback": [
      "\u001b[1;31m---------------------------------------------------------------------------\u001b[0m",
      "\u001b[1;31mAttributeError\u001b[0m                            Traceback (most recent call last)",
      "\u001b[1;32m~\\AppData\\Local\\Temp\\ipykernel_21628\\3722928085.py\u001b[0m in \u001b[0;36m?\u001b[1;34m()\u001b[0m\n\u001b[1;32m----> 1\u001b[1;33m \u001b[0mzbiorowki_adnotations_df\u001b[0m\u001b[1;33m[\u001b[0m\u001b[0mzbiorowki_adnotations_df\u001b[0m\u001b[1;33m[\u001b[0m\u001b[1;34m'ZA_ZAPIS_ID'\u001b[0m\u001b[1;33m]\u001b[0m \u001b[1;33m==\u001b[0m \u001b[1;36m4747\u001b[0m\u001b[1;33m]\u001b[0m\u001b[1;33m[\u001b[0m\u001b[1;34m'adnotations_full'\u001b[0m\u001b[1;33m]\u001b[0m\u001b[1;33m.\u001b[0m\u001b[0mrow\u001b[0m\u001b[1;33m(\u001b[0m\u001b[1;36m0\u001b[0m\u001b[1;33m)\u001b[0m\u001b[1;33m\u001b[0m\u001b[1;33m\u001b[0m\u001b[0m\n\u001b[0m",
      "\u001b[1;32mc:\\Users\\nwolc\\.virtualenvs\\WORK-C118PQ75\\Lib\\site-packages\\pandas\\core\\generic.py\u001b[0m in \u001b[0;36m?\u001b[1;34m(self, name)\u001b[0m\n\u001b[0;32m   6295\u001b[0m             \u001b[1;32mand\u001b[0m \u001b[0mname\u001b[0m \u001b[1;32mnot\u001b[0m \u001b[1;32min\u001b[0m \u001b[0mself\u001b[0m\u001b[1;33m.\u001b[0m\u001b[0m_accessors\u001b[0m\u001b[1;33m\u001b[0m\u001b[1;33m\u001b[0m\u001b[0m\n\u001b[0;32m   6296\u001b[0m             \u001b[1;32mand\u001b[0m \u001b[0mself\u001b[0m\u001b[1;33m.\u001b[0m\u001b[0m_info_axis\u001b[0m\u001b[1;33m.\u001b[0m\u001b[0m_can_hold_identifiers_and_holds_name\u001b[0m\u001b[1;33m(\u001b[0m\u001b[0mname\u001b[0m\u001b[1;33m)\u001b[0m\u001b[1;33m\u001b[0m\u001b[1;33m\u001b[0m\u001b[0m\n\u001b[0;32m   6297\u001b[0m         \u001b[1;33m)\u001b[0m\u001b[1;33m:\u001b[0m\u001b[1;33m\u001b[0m\u001b[1;33m\u001b[0m\u001b[0m\n\u001b[0;32m   6298\u001b[0m             \u001b[1;32mreturn\u001b[0m \u001b[0mself\u001b[0m\u001b[1;33m[\u001b[0m\u001b[0mname\u001b[0m\u001b[1;33m]\u001b[0m\u001b[1;33m\u001b[0m\u001b[1;33m\u001b[0m\u001b[0m\n\u001b[1;32m-> 6299\u001b[1;33m         \u001b[1;32mreturn\u001b[0m \u001b[0mobject\u001b[0m\u001b[1;33m.\u001b[0m\u001b[0m__getattribute__\u001b[0m\u001b[1;33m(\u001b[0m\u001b[0mself\u001b[0m\u001b[1;33m,\u001b[0m \u001b[0mname\u001b[0m\u001b[1;33m)\u001b[0m\u001b[1;33m\u001b[0m\u001b[1;33m\u001b[0m\u001b[0m\n\u001b[0m",
      "\u001b[1;31mAttributeError\u001b[0m: 'Series' object has no attribute 'row'"
     ]
    }
   ],
   "source": [
    "zbiorowki_adnotations_df[zbiorowki_adnotations_df['ZA_ZAPIS_ID'] == 4747]['adnotations_full']"
   ]
  }
 ],
 "metadata": {
  "kernelspec": {
   "display_name": "WORK-C118PQ75",
   "language": "python",
   "name": "python3"
  },
  "language_info": {
   "codemirror_mode": {
    "name": "ipython",
    "version": 3
   },
   "file_extension": ".py",
   "mimetype": "text/x-python",
   "name": "python",
   "nbconvert_exporter": "python",
   "pygments_lexer": "ipython3",
   "version": "3.12.0"
  }
 },
 "nbformat": 4,
 "nbformat_minor": 2
}
