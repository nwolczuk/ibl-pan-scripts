{
 "cells": [
  {
   "cell_type": "code",
   "execution_count": 1,
   "metadata": {},
   "outputs": [],
   "source": [
    "import pandas as pd\n",
    "import numpy as np\n",
    "import json"
   ]
  },
  {
   "cell_type": "code",
   "execution_count": null,
   "metadata": {},
   "outputs": [],
   "source": [
    "# nowe książki z adnotacji \n",
    "ks_adnotations_df = pd.read_excel('pbl_ks_adnotacje_20-10-2024.xlsx').fillna('')\n",
    "\n",
    "ks_adnotations_df['adnotations_full'] = ks_adnotations_df['ZA_ADNOTACJE'] + ' ' + ks_adnotations_df['ZA_ADNOTACJE2'] + ' ' + ks_adnotations_df['ZA_ADNOTACJE3']\n",
    "ks_adnotations_df = ks_adnotations_df.sample(frac=1).reset_index(drop=True)\n",
    "ks_adnotations_df['group'] = np.arange(len(ks_adnotations_df)) // 5\n",
    "\n",
    "ks_adnotations_dct = {}\n",
    "for idx, row in ks_adnotations_df.iterrows():\n",
    "    ks_adnotations_dct.setdefault(100001 + row['group'], []).append((row['ZA_ZAPIS_ID'], row['adnotations_full'].strip('\\n')))\n",
    "    \n",
    "with open('ks_adnotations_dct.json', 'w', encoding='utf-8') as jfile:\n",
    "    json.dump(ks_adnotations_dct, jfile, indent=4, ensure_ascii=False)\n",
    "    \n",
    "for key, val in ks_adnotations_dct.items():\n",
    "    with open(f'txt_files/KS/{key}.txt', 'a', encoding='utf-8') as txt:\n",
    "        for tup in val:\n",
    "            txt.writelines(tup[1] + '\\n')"
   ]
  },
  {
   "cell_type": "code",
   "execution_count": 2,
   "metadata": {},
   "outputs": [
    {
     "name": "stderr",
     "output_type": "stream",
     "text": [
      "c:\\Users\\Nikodem\\Documents\\main_venv\\Lib\\site-packages\\openpyxl\\styles\\stylesheet.py:226: UserWarning: Workbook contains no default style, apply openpyxl's default\n",
      "  warn(\"Workbook contains no default style, apply openpyxl's default\")\n"
     ]
    }
   ],
   "source": [
    "# dzielenie zbiorówek\n",
    "zbiorowki_adnotations_df = pd.read_excel('zbiorowki_27-01-2025.xlsx').fillna('')\n",
    "\n",
    "zbiorowki_adnotations_df['adnotations_full'] = zbiorowki_adnotations_df['ZA_ADNOTACJE'] + ' ' + zbiorowki_adnotations_df['ZA_ADNOTACJE2'] + ' ' + zbiorowki_adnotations_df['ZA_ADNOTACJE3']\n",
    "zbiorowki_adnotations_df = zbiorowki_adnotations_df.sample(frac=1).reset_index(drop=True)\n",
    "zbiorowki_adnotations_df = zbiorowki_adnotations_df[['ZA_ZAPIS_ID','adnotations_full']]\n",
    "zbiorowki_adnotations_df = zbiorowki_adnotations_df.sample(frac=1).reset_index(drop=True)"
   ]
  },
  {
   "cell_type": "code",
   "execution_count": 3,
   "metadata": {},
   "outputs": [],
   "source": [
    "zbiorowki_adnotations_df['adnotations_full'] = zbiorowki_adnotations_df['adnotations_full'].str.split('. - ', regex=False)\n",
    "zbiorowki_adnotations_df = zbiorowki_adnotations_df.explode('adnotations_full', ignore_index=True)"
   ]
  },
  {
   "cell_type": "code",
   "execution_count": 3,
   "metadata": {},
   "outputs": [
    {
     "data": {
      "text/plain": [
       "7389    M. Wyka: Makuszyński - poeta [wstęp]. * [Wiers...\n",
       "Name: adnotations_full, dtype: object"
      ]
     },
     "execution_count": 3,
     "metadata": {},
     "output_type": "execute_result"
    }
   ],
   "source": [
    "zbiorowki_adnotations_df[zbiorowki_adnotations_df['ZA_ZAPIS_ID'] == 4747]['adnotations_full']"
   ]
  },
  {
   "cell_type": "code",
   "execution_count": 3,
   "metadata": {},
   "outputs": [],
   "source": [
    "counter = 0\n",
    "for idx, row in zbiorowki_adnotations_df.iterrows():\n",
    "    if counter == 600: break\n",
    "    file_id = row['ZA_ZAPIS_ID']\n",
    "    adnotation = row['adnotations_full'].replace('\\n', ' ')\n",
    "    with open(f'txt_files/ZBIOROWKI/zapis_id_{file_id}.txt', 'a', encoding='utf-8') as txt:\n",
    "        txt.writelines(adnotation)\n",
    "    counter += 1"
   ]
  }
 ],
 "metadata": {
  "kernelspec": {
   "display_name": "Python 3",
   "language": "python",
   "name": "python3"
  },
  "language_info": {
   "codemirror_mode": {
    "name": "ipython",
    "version": 3
   },
   "file_extension": ".py",
   "mimetype": "text/x-python",
   "name": "python",
   "nbconvert_exporter": "python",
   "pygments_lexer": "ipython3",
   "version": "3.11.1"
  }
 },
 "nbformat": 4,
 "nbformat_minor": 2
}
