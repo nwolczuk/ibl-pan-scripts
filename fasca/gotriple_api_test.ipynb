{
 "cells": [
  {
   "cell_type": "code",
   "execution_count": 5,
   "metadata": {},
   "outputs": [],
   "source": [
    "import requests\n",
    "from urllib.parse import urlencode\n",
    "\n",
    "import json\n",
    "import pandas as pd\n",
    "\n",
    "BASE_URL = 'https://api.gotriple.eu/'"
   ]
  },
  {
   "cell_type": "code",
   "execution_count": 2,
   "metadata": {},
   "outputs": [],
   "source": [
    "params = {\n",
    "    'q': 'Maternity and Pregnancy',\n",
    "    'fq': {\n",
    "        'type': 'typ_article',\n",
    "        'has_pdf': 'true',\n",
    "        'in_language': 'en'\n",
    "    },\n",
    "    'include_duplicates': 'false',\n",
    "    'aggs': {\n",
    "\n",
    "    },\n",
    "    'sort': '', # name, publication_date, most_recent --> name:desc\n",
    "    'page': 1,\n",
    "    'size': 10,\n",
    "}"
   ]
  },
  {
   "cell_type": "code",
   "execution_count": 3,
   "metadata": {},
   "outputs": [],
   "source": [
    "def build_api_url(params):\n",
    "    cleaned_params = {}\n",
    "    for key, value in params.items():\n",
    "        if value:\n",
    "            if isinstance(value, dict):\n",
    "                cleaned_params[key] = urlencode(value).replace('&', ';')\n",
    "            else:\n",
    "               cleaned_params[key] = value \n",
    "    return urlencode(cleaned_params)"
   ]
  },
  {
   "cell_type": "code",
   "execution_count": null,
   "metadata": {},
   "outputs": [],
   "source": [
    "objects_list = []\n",
    "endpoint = 'documents'\n",
    "url = f'{BASE_URL}{endpoint}?{build_api_url(params)}'\n",
    "while True:\n",
    "    response = requests.get(url)\n",
    "    if response.ok:\n",
    "        objects_list.extend(response.json()['hydra:member'])\n",
    "        # print(response.json()['hydra:totalItems'])\n",
    "        # print(response.json()['hydra:member'])\n",
    "        # print(response.json()['hydra:view']['hydra:next'])\n",
    "        # print(response.json()['hydra:view']['hydra:last'])\n",
    "        print(url)\n",
    "    if not response.json()['hydra:view'].get('hydra:next'):\n",
    "        break\n",
    "    else:\n",
    "        url = BASE_URL + response.json()['hydra:view']['hydra:next'][1:]\n",
    "print(len(objects_list))"
   ]
  },
  {
   "cell_type": "code",
   "execution_count": null,
   "metadata": {},
   "outputs": [],
   "source": [
    "with open('gotriple_api_test_output.json', 'w', encoding='utf-8') as jfile:\n",
    "    json.dump(objects_list, jfile, indent=4, ensure_ascii=False)"
   ]
  },
  {
   "cell_type": "code",
   "execution_count": 3,
   "metadata": {},
   "outputs": [],
   "source": [
    "with open('gotriple_api_test_output.json', 'r', encoding='utf-8') as jfile:\n",
    "    objects_list = json.load(jfile)"
   ]
  },
  {
   "cell_type": "code",
   "execution_count": 6,
   "metadata": {},
   "outputs": [],
   "source": [
    "to_df_lst = []\n",
    "for elem in objects_list:\n",
    "    row = {}\n",
    "    row['id'] = elem['id']\n",
    "\n",
    "    for e in elem['abstract']:\n",
    "        if e['lang'] == 'en':\n",
    "            row['abstract'] = e['text']\n",
    "            break\n",
    "\n",
    "    for e in elem['headline']:\n",
    "            if e['lang'] == 'en':\n",
    "                row['title'] = e['text']\n",
    "                break\n",
    "    \n",
    "    row['date_published'] = elem['date_published']\n",
    "    row['doi'] = ' | '.join(elem['doi'])\n",
    "    row['keywords'] = ' | '.join([e['text'] for e in elem['keywords']])\n",
    "    row['triple_voc'] = ' | '.join([e['uri'] for e in elem['knows_about']])\n",
    "    row['pdf_url'] = ' | '.join(elem['url'])\n",
    "    row['authors'] = ' | '.join([e['fullname'] for e in elem['author']])\n",
    "    row['triple_disciplines'] = ' | '.join([f\"{e['id']}:{e['confidence']}\" for e in elem['topic']])\n",
    "    row['original_languages'] = ' | '.join(elem['original_languages'])\n",
    "    row['published'] = ' | '.join(elem['mentions'])\n",
    "    to_df_lst.append(row)"
   ]
  },
  {
   "cell_type": "code",
   "execution_count": 10,
   "metadata": {},
   "outputs": [],
   "source": [
    "df = pd.DataFrame.from_dict(to_df_lst)\n",
    "df.to_excel('gotriple_api_test_output.xlsx')"
   ]
  }
 ],
 "metadata": {
  "kernelspec": {
   "display_name": "Python 3",
   "language": "python",
   "name": "python3"
  },
  "language_info": {
   "codemirror_mode": {
    "name": "ipython",
    "version": 3
   },
   "file_extension": ".py",
   "mimetype": "text/x-python",
   "name": "python",
   "nbconvert_exporter": "python",
   "pygments_lexer": "ipython3",
   "version": "3.11.1"
  }
 },
 "nbformat": 4,
 "nbformat_minor": 2
}
