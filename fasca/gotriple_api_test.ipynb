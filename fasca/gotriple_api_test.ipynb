{
 "cells": [
  {
   "cell_type": "code",
   "execution_count": 1,
   "metadata": {},
   "outputs": [],
   "source": [
    "import requests\n",
    "from urllib.parse import urlencode\n",
    "\n",
    "BASE_URL = 'https://api.gotriple.eu/'"
   ]
  },
  {
   "cell_type": "code",
   "execution_count": null,
   "metadata": {},
   "outputs": [],
   "source": [
    "params = {\n",
    "    'q': 'Maternity and Pregnancy',\n",
    "    'fq': {\n",
    "        'type': 'typ_article',\n",
    "        'has_pdf': 'true',\n",
    "        'in_language': 'en'\n",
    "    },\n",
    "    'include_duplicates': 'false',\n",
    "    'aggs': {\n",
    "\n",
    "    },\n",
    "    'sort': '', # name, publication_date, most_recent --> name:desc\n",
    "    'page': 1,\n",
    "    'size': 10,\n",
    "}"
   ]
  },
  {
   "cell_type": "code",
   "execution_count": null,
   "metadata": {},
   "outputs": [],
   "source": [
    "def build_api_url(params):\n",
    "    cleaned_params = {}\n",
    "    for key, value in params.items():\n",
    "        if value:\n",
    "            if isinstance(value, dict):\n",
    "                cleaned_params[key] = urlencode(value).replace('&', ';')\n",
    "            else:\n",
    "               cleaned_params[key] = value \n",
    "    return urlencode(cleaned_params)"
   ]
  },
  {
   "cell_type": "code",
   "execution_count": 32,
   "metadata": {},
   "outputs": [
    {
     "name": "stdout",
     "output_type": "stream",
     "text": [
      "231\n"
     ]
    }
   ],
   "source": [
    "endpoint = 'documents'\n",
    "url = f'{BASE_URL}{endpoint}?{build_api_url(params)}'\n",
    "response = requests.get(url)\n",
    "if response.ok:\n",
    "    print(response.json()['hydra:totalItems'])"
   ]
  }
 ],
 "metadata": {
  "kernelspec": {
   "display_name": "Python 3",
   "language": "python",
   "name": "python3"
  },
  "language_info": {
   "codemirror_mode": {
    "name": "ipython",
    "version": 3
   },
   "file_extension": ".py",
   "mimetype": "text/x-python",
   "name": "python",
   "nbconvert_exporter": "python",
   "pygments_lexer": "ipython3",
   "version": "3.11.1"
  }
 },
 "nbformat": 4,
 "nbformat_minor": 2
}
